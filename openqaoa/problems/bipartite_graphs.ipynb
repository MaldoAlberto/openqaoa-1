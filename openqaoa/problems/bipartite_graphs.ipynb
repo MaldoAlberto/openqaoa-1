{
 "cells": [
  {
   "cell_type": "code",
   "execution_count": 1,
   "id": "ad752d6b",
   "metadata": {},
   "outputs": [],
   "source": [
    "%load_ext autoreload\n",
    "%autoreload 2 "
   ]
  },
  {
   "cell_type": "code",
   "execution_count": 2,
   "id": "40425005",
   "metadata": {},
   "outputs": [],
   "source": [
    "import networkx as nx\n",
    "import numpy as np\n",
    "import matplotlib.pyplot as plt\n",
    "import random\n",
    "import json\n",
    "from networkx.readwrite import json_graph"
   ]
  },
  {
   "cell_type": "code",
   "execution_count": 3,
   "id": "f8573c05",
   "metadata": {},
   "outputs": [],
   "source": [
    "from networkx.algorithms import bipartite\n",
    "from openqaoa.problems.problem import *\n",
    "from openqaoa.utilities import *\n",
    "from openqaoa.workflows.optimizer import QAOA"
   ]
  },
  {
   "cell_type": "code",
   "execution_count": 4,
   "id": "8a17a474",
   "metadata": {},
   "outputs": [],
   "source": [
    "random.seed(1)\n",
    "\n",
    "def random_connected_bipartite_graph(n, m, k):\n",
    "    \n",
    "    \"\"\"\n",
    "    This is a function to create a random connected bipartite graph.\n",
    "    \n",
    "    It needs three inputs (n,m,k)\n",
    "    \n",
    "    Arguments:\n",
    "        n : integer --> number of vertices in the first subset\n",
    "        m : integer --> number of vertices in the second subset\n",
    "        k : integer --> number of vertices to remove from the complete connected bipartite graph G(n,m)\n",
    "\n",
    "    Returns:\n",
    "        The function returns a networkx Graph Object nx.Graph()\n",
    "    \"\"\"\n",
    "    \n",
    "    G = nx.Graph()\n",
    "    \n",
    "    # Check that the value of k is correct\n",
    "    if  0 <= k <= n*m - (n+m-1):\n",
    "        \n",
    "\n",
    "        # These will be the two components of the bipartite graph\n",
    "        N = set(range(n)) \n",
    "        M = set(range(n, n+m))\n",
    "        G.add_nodes_from(N)\n",
    "        G.add_nodes_from(M)\n",
    "        \n",
    "        for i in range(n):\n",
    "            for j in range(m):\n",
    "                G.add_edge(i,j+n)\n",
    "\n",
    "        tot_edges = list(G.edges)\n",
    "        tot_rem_edges = 0\n",
    "\n",
    "        while tot_rem_edges < k:\n",
    "            #print(counter)\n",
    "    \n",
    "            rem_edge = random.choice(list(G.edges))\n",
    "            G.remove_edge(rem_edge[0],rem_edge[1])\n",
    "    \n",
    "            if nx.is_connected(G):\n",
    "                tot_rem_edges = tot_rem_edges + 1\n",
    "                #print(\"One step ahead\")\n",
    "            else:\n",
    "                G.add_edge(rem_edge[0],rem_edge[1])\n",
    "                #print(\"Not connected, try again\")\n",
    "                \n",
    "        return G\n",
    "    \n",
    "    else:\n",
    "        print(\"For a complete bipartite graph, k must be at most equal to\", n*m - (n+m-1),\"; Reduce the value of k.\")"
   ]
  },
  {
   "cell_type": "code",
   "execution_count": 5,
   "id": "8fbb6dc9",
   "metadata": {},
   "outputs": [],
   "source": [
    "def read_graph_from_json_file(filename):\n",
    "    \n",
    "    \"\"\"\n",
    "    Function to read a graph from a json file\n",
    "    \n",
    "    Note that, to save a graph as a josn file one can use\n",
    "        with open('file_name.json', 'w') as output:\n",
    "            output.write(json.dumps(json_graph.node_link_data()))\n",
    "    \n",
    "    Single argument:\n",
    "    filename : text --> name of the json file that contains the graph information\n",
    "    \n",
    "    Returns:\n",
    "    A networkx graph    \n",
    "    \"\"\"\n",
    "    \n",
    "    with open(filename) as f:\n",
    "        js_graph = json.load(f)\n",
    "    return nx.node_link_graph(js_graph)"
   ]
  },
  {
   "cell_type": "code",
   "execution_count": 6,
   "id": "504b6bdf",
   "metadata": {},
   "outputs": [],
   "source": [
    "G = read_graph_from_json_file('bipartite_graph7x9_test1.json')"
   ]
  },
  {
   "cell_type": "code",
   "execution_count": 7,
   "id": "8a898e82",
   "metadata": {},
   "outputs": [],
   "source": [
    "def mvc_bg_solution(bip_graph):\n",
    "    \n",
    "    \"\"\"\n",
    "    A function to derive the mm and mvc properties of a bipartite graph.\n",
    "    \n",
    "    Arguments:\n",
    "    \n",
    "    Returns:\n",
    "        A tuple of three elements\n",
    "            matching: dictionary --> a description of the edges in the max matching of the graph\n",
    "            mvc: set --> a set containing the nodes of the graph in the mvc, starting from label '0'\n",
    "            bit_strin: string --> a string of bits of the mvc solution to compare with QAOA\n",
    "    \"\"\"\n",
    "    \n",
    "    if nx.is_bipartite(bip_graph):\n",
    "        \n",
    "        matching = bipartite.hopcroft_karp_matching(bip_graph) #max matching of the graph\n",
    "        mvc = nx.bipartite.to_vertex_cover(bip_graph, matching) #min vertex cover of the graph\n",
    "        \n",
    "        bits = [0 if node not in list(mvc) else 1 for node in list(bip_graph.nodes)]        \n",
    "        \n",
    "        bit_string = ''.join([str(bit) for bit in bits])\n",
    "        \n",
    "        \n",
    "        \n",
    "    else:\n",
    "        print(\"Please input a bipartite graph.\")\n",
    "        \n",
    "    return matching, mvc, bit_string\n",
    "    "
   ]
  },
  {
   "cell_type": "code",
   "execution_count": 19,
   "id": "b45b4504",
   "metadata": {},
   "outputs": [],
   "source": [
    "def mvc_bg_graph(bip_graph, matching, mvc):\n",
    "    \n",
    "    \"\"\"\n",
    "    This is a function to draw a graph of the bipartite match \n",
    "    highlighting the nodes that belong to the minimum vertex cover \n",
    "    and the matches that belong to the maximum matching set\n",
    "    \n",
    "    Attributes:\n",
    "        bip_graph: networkx graph object --> a bipartite graph\n",
    "        matching: dictionary --> a description of the edges in the max matching of the graph\n",
    "        mvc: set --> a set of the nodes in the mvc of the graph\n",
    "        \n",
    "    Returns:\n",
    "        A matplotlib graph    \n",
    "    \"\"\"\n",
    "    \n",
    "    #matching = bipartite.hopcroft_karp_matching(bip_graph) #max matching of the graph\n",
    "    #mvc = nx.bipartite.to_vertex_cover(bip_graph, matching) #min vertex cover of the graph\n",
    "    ext_mvc = [node for node in list(bip_graph.nodes) if node not in list(mvc)] #the other vertices\n",
    "    pos =  nx.spring_layout(bip_graph, seed=3113794652) #fix the position for the graph\n",
    "\n",
    "    max_matching_edges = list(matching.items()) #convert the max match edges into a list\n",
    "\n",
    "    mvc_labels = {}\n",
    "    for i in range(bip_graph.number_of_nodes()): #convert the labels of the mvc into a dictionary\n",
    "        mvc_labels[i] = i\n",
    "\n",
    "    ## Nodes\n",
    "    options = {\"edgecolors\": \"tab:gray\", \"node_size\": 800, \"alpha\": 0.9}\n",
    "    nx.draw_networkx_nodes(bip_graph, pos, nodelist=list(mvc), node_color=\"tab:red\", **options)\n",
    "    nx.draw_networkx_nodes(bip_graph, pos, nodelist=list(ext_mvc), node_color=\"tab:grey\", **options)\n",
    "\n",
    "    ## Edges\n",
    "    nx.draw_networkx_edges(bip_graph, pos, width=1.0, alpha=0.5)\n",
    "    nx.draw_networkx_edges(bip_graph, pos, edgelist = max_matching_edges, width =8, alpha=0.5,edge_color=\"tab:blue\")\n",
    "\n",
    "    ## Labels\n",
    "    nx.draw_networkx_labels(bip_graph, pos, mvc_labels, font_size=22, font_color=\"whitesmoke\")\n",
    "\n",
    "    plt.tight_layout()\n",
    "    plt.axis(\"off\")\n",
    "    plt.show()"
   ]
  },
  {
   "cell_type": "markdown",
   "id": "ab33081f",
   "metadata": {},
   "source": [
    "In this notebook we keep exploring work with graphs. Here we will consider connected bipartite graphs. Bipartite graphs are graphs composed of two sets of disjoint vertices, i.e. graph vertices within the same set are not joined by an edge (are not ajacent). \n",
    "\n",
    "Bipartite graphs have numerous interesting properties: They are bicolorable (by definition) and importantly, there is an efficient way to find their minimum vertex cover. Remember that the minimum vertex cover is the smallest set of vertices of the graph that includes at least one endpoint of every edge of the graph.  \n",
    "\n",
    "The Kőnig's theorem states the equivalence between the maximum matching of a bipartite graph and the minimum vertex cover, where the maximum matching is the largest set of edges in a graph no two of which share an endpoint. Thanks to the Kőnig's theorem, there exists a polynomial time algorithm to find the mvc for bipartite graphs (first find the maximum matching efficiently, then map it to the mvc). "
   ]
  },
  {
   "cell_type": "code",
   "execution_count": 20,
   "id": "beebea06",
   "metadata": {},
   "outputs": [],
   "source": [
    "G_sol = mvc_bg_solution(G)"
   ]
  },
  {
   "cell_type": "code",
   "execution_count": 21,
   "id": "c07bee6b",
   "metadata": {},
   "outputs": [
    {
     "data": {
      "image/png": "[encoded data removed]",
      "text/plain": [
       "<Figure size 432x288 with 1 Axes>"
      ]
     },
     "metadata": {},
     "output_type": "display_data"
    }
   ],
   "source": [
    "mvc_bg_graph(G, G_sol[0], G_sol[1])"
   ]
  },
  {
   "cell_type": "code",
   "execution_count": 22,
   "id": "29d63846",
   "metadata": {},
   "outputs": [],
   "source": [
    "q = QAOA()"
   ]
  },
  {
   "cell_type": "code",
   "execution_count": 23,
   "id": "8d6752e2",
   "metadata": {},
   "outputs": [],
   "source": [
    "vc = MinimumVertexCover(G, field =1.0, penalty=10).get_pubo_problem()"
   ]
  },
  {
   "cell_type": "code",
   "execution_count": 24,
   "id": "8ce91926",
   "metadata": {},
   "outputs": [
    {
     "name": "stdout",
     "output_type": "stream",
     "text": [
      "\t \u001b[1m ### Summary ###\u001b[0m\n",
      "OpenQAOA has ben compiled with the following properties\n",
      "Solving QAOA with \u001b[1m vectorized \u001b[0m on  \u001b[1mlocal\u001b[0m\n",
      "Using p=1 with standard parameters initialsied as ramp\n",
      "OpenQAOA will optimize using \u001b[1mcobyla\u001b[0m, with up to \u001b[1m100\u001b[0m maximum iterations\n"
     ]
    }
   ],
   "source": [
    "q.compile(vc)"
   ]
  },
  {
   "cell_type": "code",
   "execution_count": 25,
   "id": "cff8066c",
   "metadata": {},
   "outputs": [
    {
     "name": "stdout",
     "output_type": "stream",
     "text": [
      "optimization completed.\n"
     ]
    }
   ],
   "source": [
    "q.optimize()"
   ]
  },
  {
   "cell_type": "code",
   "execution_count": 26,
   "id": "131bbd76",
   "metadata": {},
   "outputs": [
    {
     "data": {
      "text/plain": [
       "'1001011000010010'"
      ]
     },
     "execution_count": 26,
     "metadata": {},
     "output_type": "execute_result"
    }
   ],
   "source": [
    "q.solution"
   ]
  },
  {
   "cell_type": "code",
   "execution_count": 27,
   "id": "362768c4",
   "metadata": {},
   "outputs": [
    {
     "data": {
      "text/plain": [
       "True"
      ]
     },
     "execution_count": 27,
     "metadata": {},
     "output_type": "execute_result"
    }
   ],
   "source": [
    "q.solution == mvc_bg_solution(G)[2]"
   ]
  },
  {
   "cell_type": "code",
   "execution_count": null,
   "id": "08f5d808",
   "metadata": {},
   "outputs": [],
   "source": []
  }
 ],
 "metadata": {
  "kernelspec": {
   "display_name": "openqaoa",
   "language": "python",
   "name": "openqaoa"
  },
  "language_info": {
   "codemirror_mode": {
    "name": "ipython",
    "version": 3
   },
   "file_extension": ".py",
   "mimetype": "text/x-python",
   "name": "python",
   "nbconvert_exporter": "python",
   "pygments_lexer": "ipython3",
   "version": "3.8.13"
  }
 },
 "nbformat": 4,
 "nbformat_minor": 5
}
